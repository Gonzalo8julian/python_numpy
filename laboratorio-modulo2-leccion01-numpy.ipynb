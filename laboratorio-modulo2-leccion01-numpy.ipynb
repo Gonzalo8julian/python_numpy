{
 "cells": [
  {
   "cell_type": "markdown",
   "id": "6db588db",
   "metadata": {},
   "source": [
    "<div style=\"text-align: center;\">\n",
    "  <img src=\"https://github.com/Hack-io-Data/Imagenes/blob/main/01-LogosHackio/logo_naranja@4x.png?raw=true\" alt=\"esquema\" />\n",
    "</div>"
   ]
  },
  {
   "cell_type": "code",
   "execution_count": 1,
   "id": "11d3f85f",
   "metadata": {},
   "outputs": [],
   "source": [
    "import os"
   ]
  },
  {
   "cell_type": "code",
   "execution_count": 2,
   "id": "64ff9293",
   "metadata": {},
   "outputs": [
    {
     "data": {
      "text/plain": [
       "['laboratorio-modulo2-leccion01-numpy.ipynb',\n",
       " 'laboratorio-modulo1-leccion01-manejo-errores.ipynb',\n",
       " 'laboratorio-modulo1-leccion01-break-pass-continue.ipynb',\n",
       " 'laboratorio-modulo1-leccion02-clases.ipynb']"
      ]
     },
     "execution_count": 2,
     "metadata": {},
     "output_type": "execute_result"
    }
   ],
   "source": [
    "datos = os.listdir()\n",
    "datos"
   ]
  },
  {
   "cell_type": "code",
   "execution_count": 4,
   "id": "e5933ce8",
   "metadata": {},
   "outputs": [
    {
     "name": "stdout",
     "output_type": "stream",
     "text": [
      "Defaulting to user installation because normal site-packages is not writeable\n",
      "Collecting numpy\n",
      "  Downloading numpy-2.0.2-cp39-cp39-macosx_14_0_arm64.whl.metadata (60 kB)\n",
      "\u001b[2K     \u001b[90m━━━━━━━━━━━━━━━━━━━━━━━━━━━━━━━━━━━━━━━━\u001b[0m \u001b[32m60.9/60.9 kB\u001b[0m \u001b[31m3.0 MB/s\u001b[0m eta \u001b[36m0:00:00\u001b[0m\n",
      "\u001b[?25hDownloading numpy-2.0.2-cp39-cp39-macosx_14_0_arm64.whl (5.3 MB)\n",
      "\u001b[2K   \u001b[90m━━━━━━━━━━━━━━━━━━━━━━━━━━━━━━━━━━━━━━━━\u001b[0m \u001b[32m5.3/5.3 MB\u001b[0m \u001b[31m7.4 MB/s\u001b[0m eta \u001b[36m0:00:00\u001b[0m00:01\u001b[0m00:01\u001b[0m\n",
      "\u001b[?25hInstalling collected packages: numpy\n",
      "Successfully installed numpy-2.0.2\n",
      "\n",
      "\u001b[1m[\u001b[0m\u001b[34;49mnotice\u001b[0m\u001b[1;39;49m]\u001b[0m\u001b[39;49m A new release of pip is available: \u001b[0m\u001b[31;49m24.1.1\u001b[0m\u001b[39;49m -> \u001b[0m\u001b[32;49m24.3.1\u001b[0m\n",
      "\u001b[1m[\u001b[0m\u001b[34;49mnotice\u001b[0m\u001b[1;39;49m]\u001b[0m\u001b[39;49m To update, run: \u001b[0m\u001b[32;49m/Library/Developer/CommandLineTools/usr/bin/python3 -m pip install --upgrade pip\u001b[0m\n"
     ]
    }
   ],
   "source": [
    "!pip install numpy"
   ]
  },
  {
   "cell_type": "code",
   "execution_count": 5,
   "id": "bd318a3d",
   "metadata": {},
   "outputs": [],
   "source": [
    "import numpy as np"
   ]
  },
  {
   "cell_type": "markdown",
   "id": "11308d6c",
   "metadata": {},
   "source": [
    "for i in datos\n",
    "# Laboratorio de NumPy"
   ]
  },
  {
   "cell_type": "markdown",
   "id": "a19d4596",
   "metadata": {},
   "source": [
    "#### Ejercicio 1 - Crea un array de 1D con los números del 0 al 9."
   ]
  },
  {
   "cell_type": "code",
   "execution_count": 12,
   "id": "9d4e1d42",
   "metadata": {},
   "outputs": [
    {
     "name": "stdout",
     "output_type": "stream",
     "text": [
      "El array 1D creado es: [0 1 2 3 4 5 6 7 8 9]\n"
     ]
    }
   ],
   "source": [
    "array_unidimensional = np.arange(10)\n",
    "\n",
    "print(f\"El array 1D creado es: {array_unidimensional}\")"
   ]
  },
  {
   "cell_type": "markdown",
   "id": "f4a41f16",
   "metadata": {},
   "source": [
    "#### Ejercicio 2 - Convierte un array 1D en un array 2D con 2 filas y 5 columnas."
   ]
  },
  {
   "cell_type": "code",
   "execution_count": 15,
   "id": "3d7cef3c",
   "metadata": {},
   "outputs": [
    {
     "name": "stdout",
     "output_type": "stream",
     "text": [
      "El array 2D creado es:\n",
      "[[ 1  2  3  4  5]\n",
      " [ 6  7  8  9 10]]\n"
     ]
    }
   ],
   "source": [
    "lista_bidimensional = [[1, 2, 3, 4, 5], [6, 7, 8, 9, 10]]\n",
    "\n",
    "array_bidimensional = np.array(lista_bidimensional)\n",
    "\n",
    "print(f\"El array 2D creado es:\")\n",
    "print(array_bidimensional)"
   ]
  },
  {
   "cell_type": "markdown",
   "id": "86bb8999",
   "metadata": {},
   "source": [
    "#### Ejercicio 3 - Encuentra los índices de los elementos con valor distinto de 0 en el siguiente array: [0, 2, 0, 3, 0, 4, 0]."
   ]
  },
  {
   "cell_type": "code",
   "execution_count": 23,
   "id": "d1fcfca4",
   "metadata": {},
   "outputs": [
    {
     "name": "stdout",
     "output_type": "stream",
     "text": [
      "[0 2 0 3 0 4 0]\n",
      "(array([1, 3, 5]),)\n"
     ]
    }
   ],
   "source": [
    "array = np.array([0,2,0,3,0,4,0])\n",
    "\n",
    "print(array)\n",
    "\n",
    "resultado = np.where(array != 0)\n",
    "\n",
    "print(resultado)"
   ]
  },
  {
   "cell_type": "markdown",
   "id": "1c548419",
   "metadata": {},
   "source": [
    "#### Ejercicio 4 - Crea un array 3x3 con valores aleatorios entre 0 y 1."
   ]
  },
  {
   "cell_type": "code",
   "execution_count": 30,
   "id": "e1d4f19f",
   "metadata": {},
   "outputs": [
    {
     "name": "stdout",
     "output_type": "stream",
     "text": [
      "[[0.65874147 0.76828016 0.07795829]\n",
      " [0.7012462  0.67994941 0.17200068]\n",
      " [0.76745937 0.64047594 0.62795623]]\n"
     ]
    }
   ],
   "source": [
    "array_3x3_random = np.random.rand(3,3)\n",
    "\n",
    "print(array_3x3_random)"
   ]
  },
  {
   "cell_type": "markdown",
   "id": "aee82811",
   "metadata": {},
   "source": [
    "#### Ejercicio 5 - Crea un array de 10 números aleatorios y encuentra el valor máximo y mínimo."
   ]
  },
  {
   "cell_type": "code",
   "execution_count": 34,
   "id": "81fea76e",
   "metadata": {},
   "outputs": [
    {
     "name": "stdout",
     "output_type": "stream",
     "text": [
      "[0.75154489 0.07380292 0.0056823  0.07134415 0.64177567 0.80293799\n",
      " 0.35908747 0.95731429 0.12443016 0.27264428]\n",
      "_______________________\n",
      "El valor máximo del array es 0.957314292504941 y el mínimo 0.005682303975463876\n"
     ]
    }
   ],
   "source": [
    "array_10_numeros = np.random.rand(10)\n",
    "\n",
    "print(array_10_numeros)\n",
    "\n",
    "valor_maximo = np.max(array_10_numeros)\n",
    "valor_minimo = np.min(array_10_numeros)\n",
    "\n",
    "print(\"_______________________\")\n",
    "print(f\"El valor máximo del array es {valor_maximo} y el mínimo {valor_minimo}\")\n"
   ]
  },
  {
   "cell_type": "markdown",
   "id": "6559375b",
   "metadata": {},
   "source": [
    "#### Ejercicio 6 - Crea un array de una dimensión e inviértelo. "
   ]
  },
  {
   "cell_type": "code",
   "execution_count": 45,
   "id": "31385db0",
   "metadata": {},
   "outputs": [
    {
     "name": "stdout",
     "output_type": "stream",
     "text": [
      "El array que queremos invertir es: [0.70565334 0.91351411 0.07906364 0.32980783 0.75240262]\n",
      "____________________\n",
      "El array invertido es [0.75240262 0.32980783 0.07906364 0.91351411 0.70565334]\n"
     ]
    }
   ],
   "source": [
    "array_invertir = np.random.rand(5)\n",
    "\n",
    "array_invertido = np.flip(array_invertir)\n",
    "\n",
    "print(f\"El array que queremos invertir es: {array_invertir}\")\n",
    "print(\"____________________\")\n",
    "\n",
    "print(f\"El array invertido es {array_invertido}\")"
   ]
  },
  {
   "cell_type": "markdown",
   "id": "4457f046",
   "metadata": {},
   "source": [
    "\n",
    "#### Ejercicio 6 - Genera un array tridimensional de dimensiones (2, 3, 4) con valores enteros del 1 al 24.\n",
    "\n",
    "- Selecciona el primer `15` del array.\n",
    "\n",
    "- Selecciona todos los elementos del primer array. \n",
    "\n",
    "- Selecciona la última fila del último array\n"
   ]
  },
  {
   "cell_type": "code",
   "execution_count": 54,
   "id": "3cab04c9",
   "metadata": {},
   "outputs": [
    {
     "name": "stdout",
     "output_type": "stream",
     "text": [
      "[[[14  3 15 10]\n",
      "  [ 9 13 16 22]\n",
      "  [17 15 21 22]]\n",
      "\n",
      " [[ 3 15 20 11]\n",
      "  [ 5  9 17  4]\n",
      "  [ 2  4 16 18]]]\n"
     ]
    }
   ],
   "source": [
    "array_tridimensional = np.random.randint(1, 24, (2,3, 4))\n",
    "print(array_tridimensional)"
   ]
  },
  {
   "cell_type": "code",
   "execution_count": 59,
   "id": "2a209d6f",
   "metadata": {},
   "outputs": [
    {
     "name": "stdout",
     "output_type": "stream",
     "text": [
      "15\n",
      "_______________\n",
      "[[14  3 15 10]\n",
      " [ 9 13 16 22]\n",
      " [17 15 21 22]]\n",
      "_______________\n",
      "[ 2  4 16 18]\n"
     ]
    }
   ],
   "source": [
    "# - Selecciona el primer `15` del array.\n",
    "print(array_tridimensional[0,0,2])\n",
    "\n",
    "print(\"_______________\")\n",
    "\n",
    "#- Selecciona todos los elementos del primer array. \n",
    "print(array_tridimensional[0])\n",
    "\n",
    "print(\"_______________\")\n",
    "\n",
    "# - Selecciona la última fila del último array\n",
    "print(array_tridimensional[1,2])"
   ]
  },
  {
   "cell_type": "markdown",
   "id": "681b7e4e",
   "metadata": {},
   "source": [
    "\n",
    "#### Ejercicio 7 - Genera un array tridimensional de dimensiones (3, 2, 5) con valores enteros del 1 al 30.\n",
    "\n",
    "- Selecciona el subarray que contiene los dos primeros elementos de cada fila del primer array.\n",
    "\n",
    "- Selecciona el subarray que contiene todas las filas de los dos últimos arrays.\n"
   ]
  },
  {
   "cell_type": "code",
   "execution_count": 65,
   "id": "b008a9aa",
   "metadata": {},
   "outputs": [
    {
     "name": "stdout",
     "output_type": "stream",
     "text": [
      "[[[16 25 13 21  5]\n",
      "  [13 28  2  8  9]]\n",
      "\n",
      " [[ 3 24 27  5 23]\n",
      "  [ 7 15  9  6 10]]\n",
      "\n",
      " [[26 16 24 29 25]\n",
      "  [ 3 21 24  7 16]]]\n"
     ]
    }
   ],
   "source": [
    "array_tri1 = np.random.randint(1,30,(3,2,5))\n",
    "\n",
    "print(array_tri1)"
   ]
  },
  {
   "cell_type": "code",
   "execution_count": 76,
   "id": "1a7b53ed",
   "metadata": {},
   "outputs": [
    {
     "name": "stdout",
     "output_type": "stream",
     "text": [
      "[[16 25]\n",
      " [13 28]]\n",
      "_______________\n",
      "[[[ 3 24 27  5 23]\n",
      "  [ 7 15  9  6 10]]\n",
      "\n",
      " [[26 16 24 29 25]\n",
      "  [ 3 21 24  7 16]]]\n"
     ]
    }
   ],
   "source": [
    "#- Selecciona el subarray que contiene los dos primeros elementos de cada fila del primer array.\n",
    "print(array_tri1[0, :, :2])\n",
    "\n",
    "print(\"_______________\")\n",
    "#- Selecciona el subarray que contiene todas las filas de los dos últimos arrays.\n",
    "print(array_tri1[1:,:,:])"
   ]
  },
  {
   "cell_type": "markdown",
   "id": "4fabd9d0",
   "metadata": {},
   "source": [
    "#### Ejercicio 8 - Genera un array tridimensional de dimensiones (4, 3, 2) con valores enteros del 1 al 24.\n",
    "\n",
    "- Cambia todos los elementos de la segunda fila del segundo array por `0`.\n",
    "\n",
    "- Cambia todos los valores del último array a `-1`.\n"
   ]
  },
  {
   "cell_type": "code",
   "execution_count": 77,
   "id": "0ef45b69",
   "metadata": {},
   "outputs": [
    {
     "name": "stdout",
     "output_type": "stream",
     "text": [
      "[[[23 21]\n",
      "  [ 8 22]\n",
      "  [ 1 15]]\n",
      "\n",
      " [[23  2]\n",
      "  [21 11]\n",
      "  [18 23]]\n",
      "\n",
      " [[ 1 19]\n",
      "  [ 5 11]\n",
      "  [11 10]]\n",
      "\n",
      " [[ 1 18]\n",
      "  [13  4]\n",
      "  [17 19]]]\n"
     ]
    }
   ],
   "source": [
    "array_tri2 = np.random.randint(1,24,(4,3,2))\n",
    "\n",
    "print(array_tri2)"
   ]
  },
  {
   "cell_type": "code",
   "execution_count": 84,
   "id": "53008627",
   "metadata": {},
   "outputs": [
    {
     "name": "stdout",
     "output_type": "stream",
     "text": [
      "[[[23 21]\n",
      "  [ 8 22]\n",
      "  [ 1 15]]\n",
      "\n",
      " [[23  2]\n",
      "  [ 0  0]\n",
      "  [18 23]]\n",
      "\n",
      " [[ 1 19]\n",
      "  [ 5 11]\n",
      "  [11 10]]\n",
      "\n",
      " [[-1 -1]\n",
      "  [-1 -1]\n",
      "  [-1 -1]]]\n",
      "_______________\n",
      "[[[23 21]\n",
      "  [ 8 22]\n",
      "  [ 1 15]]\n",
      "\n",
      " [[23  2]\n",
      "  [ 0  0]\n",
      "  [18 23]]\n",
      "\n",
      " [[ 1 19]\n",
      "  [ 5 11]\n",
      "  [11 10]]\n",
      "\n",
      " [[-1 -1]\n",
      "  [-1 -1]\n",
      "  [-1 -1]]]\n"
     ]
    }
   ],
   "source": [
    "#- Cambia todos los elementos de la segunda fila del segundo array por `0`.\n",
    "array_tri2[1,1,:] = 0\n",
    "print(array_tri2)\n",
    "\n",
    "print(\"_______________\")\n",
    "\n",
    "#- Cambia todos los valores del último array a `-1`.\n",
    "array_tri2[3,:,:] = -1\n",
    "print(array_tri2)"
   ]
  },
  {
   "cell_type": "markdown",
   "id": "c60bc3bb",
   "metadata": {},
   "source": [
    "\n",
    "#### Ejercicio 9 - Genera un array tridimensional de dimensiones (2, 4, 3) con valores enteros del -10 al 13.\n",
    "\n",
    "- Selecciona todos los elementos mayores a `5`.\n",
    "\n",
    "- Reemplaza todos los elementos negativos por `0`.\n"
   ]
  },
  {
   "cell_type": "code",
   "execution_count": null,
   "id": "28bf9232",
   "metadata": {},
   "outputs": [
    {
     "name": "stdout",
     "output_type": "stream",
     "text": [
      "[[[ -6  -6  -4]\n",
      "  [  7  -6   7]\n",
      "  [  1  -7  -3]\n",
      "  [ -9  -4  11]]\n",
      "\n",
      " [[-10   0   7]\n",
      "  [ -4  11  -8]\n",
      "  [ -9  -1   3]\n",
      "  [ -4  -1   8]]]\n"
     ]
    }
   ],
   "source": [
    "array_tri3 = np.random.randint(-10,13,(2,4,3))\n",
    "print(array_tri3)"
   ]
  },
  {
   "cell_type": "code",
   "execution_count": 91,
   "id": "5e6817cb",
   "metadata": {},
   "outputs": [
    {
     "name": "stdout",
     "output_type": "stream",
     "text": [
      "Los elementos del array mayores de 5 son:\n",
      "[ 7  7 11  7 11  8]\n",
      "_______________\n",
      "[[[ 0  0  0]\n",
      "  [ 7  0  7]\n",
      "  [ 1  0  0]\n",
      "  [ 0  0 11]]\n",
      "\n",
      " [[ 0  0  7]\n",
      "  [ 0 11  0]\n",
      "  [ 0  0  3]\n",
      "  [ 0  0  8]]]\n"
     ]
    }
   ],
   "source": [
    "#- Selecciona todos los elementos mayores a `5`.\n",
    "elementos_mayores_5 = array_tri3[(array_tri3 > 5)]\n",
    "print(f\"Los elementos del array mayores de 5 son:\")\n",
    "print(elementos_mayores_5)\n",
    "\n",
    "\n",
    "print(\"_______________\")\n",
    "#- Reemplaza todos los elementos negativos por `0`.\n",
    "array_tri3[array_tri3 < 0] = 0\n",
    "print(array_tri3)"
   ]
  },
  {
   "cell_type": "markdown",
   "id": "ab38a3be",
   "metadata": {},
   "source": [
    "#### Ejercicio 10 - Genera un array tridimensional de dimensiones (3, 3, 3) con valores enteros del 1 al 27.\n",
    "\n",
    "- Selecciona el subarray del segundo array que contenga solo las dos primeras columnas.\n",
    "\n",
    "- Selecciona todos los elementos del tercer array que sean mayores que `20`.\n"
   ]
  },
  {
   "cell_type": "code",
   "execution_count": 92,
   "id": "78c979cf",
   "metadata": {},
   "outputs": [
    {
     "name": "stdout",
     "output_type": "stream",
     "text": [
      "[[[ 6 18 13]\n",
      "  [18  8 26]\n",
      "  [15  9  6]]\n",
      "\n",
      " [[ 8 22  5]\n",
      "  [17 15 24]\n",
      "  [ 8  8 16]]\n",
      "\n",
      " [[19  9 24]\n",
      "  [ 2 17  6]\n",
      "  [26 12 14]]]\n"
     ]
    }
   ],
   "source": [
    "array_tri4 = np.random.randint(1,27,(3,3,3))\n",
    "print(array_tri4)"
   ]
  },
  {
   "cell_type": "code",
   "execution_count": 102,
   "id": "2062d5ca",
   "metadata": {},
   "outputs": [
    {
     "name": "stdout",
     "output_type": "stream",
     "text": [
      "[[ 8 22]\n",
      " [17 15]\n",
      " [ 8  8]]\n",
      "_____\n",
      "Los elementos del tercer array mayores que 20 son: [24 26]\n"
     ]
    }
   ],
   "source": [
    "#- Selecciona el subarray del segundo array que contenga solo las dos primeras columnas.\n",
    "print(array_tri4[1,:,:2])\n",
    "\n",
    "print(\"_____\")\n",
    "\n",
    "#- Selecciona todos los elementos del tercer array que sean mayores que `20`.\n",
    "tercer_array = array_tri4[2]\n",
    "\n",
    "mayores_20 = tercer_array[(tercer_array > 20)]\n",
    "print(f\"Los elementos del tercer array mayores que 20 son: {mayores_20}\")"
   ]
  },
  {
   "cell_type": "markdown",
   "id": "f1a00156",
   "metadata": {},
   "source": [
    "#### Ejercicio 11 - Crea un array de 10 números aleatorios y reemplaza los valores máximos y mínimos por 0."
   ]
  },
  {
   "cell_type": "code",
   "execution_count": 114,
   "id": "990fa526",
   "metadata": {},
   "outputs": [
    {
     "name": "stdout",
     "output_type": "stream",
     "text": [
      "[0.29138407 0.42759599 0.57689703 0.12710689 0.71155426 0.68185114\n",
      " 0.55113082 0.69802566 0.5483533  0.71880697]\n"
     ]
    }
   ],
   "source": [
    "array10 = np.random.rand(10)\n",
    "print(array10)"
   ]
  },
  {
   "cell_type": "code",
   "execution_count": 115,
   "id": "ef47f7d1",
   "metadata": {},
   "outputs": [
    {
     "name": "stdout",
     "output_type": "stream",
     "text": [
      "[0.29138407 0.42759599 0.57689703 0.         0.71155426 0.68185114\n",
      " 0.55113082 0.69802566 0.5483533  0.        ]\n"
     ]
    }
   ],
   "source": [
    "valor_maximo = np.max(array10)\n",
    "valor_minimo = np.min(array10)\n",
    "\n",
    "array10[array10 == valor_maximo] = 0\n",
    "array10[array10 == valor_minimo] = 0\n",
    "\n",
    "print(array10)"
   ]
  },
  {
   "cell_type": "markdown",
   "id": "781fafd0",
   "metadata": {},
   "source": [
    "#### Ejercicio 12 - Genera un array de 15 números aleatorios enteros entre 1 y 100 y reordénalo en orden ascendente."
   ]
  },
  {
   "cell_type": "code",
   "execution_count": 118,
   "id": "caa4fd47",
   "metadata": {},
   "outputs": [
    {
     "data": {
      "text/plain": [
       "array([93,  4, 52, 13, 34, 53, 89, 63, 71, 71, 51, 50, 72, 53, 63])"
      ]
     },
     "execution_count": 118,
     "metadata": {},
     "output_type": "execute_result"
    }
   ],
   "source": [
    "array15 = np.random.randint(1,100, 15)\n",
    "\n",
    "array15"
   ]
  },
  {
   "cell_type": "code",
   "execution_count": 120,
   "id": "a38c4b38",
   "metadata": {},
   "outputs": [
    {
     "data": {
      "text/plain": [
       "array([ 4, 13, 34, 50, 51, 52, 53, 53, 63, 63, 71, 71, 72, 89, 93])"
      ]
     },
     "execution_count": 120,
     "metadata": {},
     "output_type": "execute_result"
    }
   ],
   "source": [
    "array_ordenado = np.sort(array15)\n",
    "\n",
    "array_ordenado"
   ]
  },
  {
   "cell_type": "markdown",
   "id": "45f10c3e",
   "metadata": {},
   "source": [
    "#### Ejercicio 11 - Calcula la suma de los elementos a lo largo de las filas y columnas en una matriz 4x4."
   ]
  },
  {
   "cell_type": "code",
   "execution_count": 123,
   "id": "90220788",
   "metadata": {},
   "outputs": [
    {
     "data": {
      "text/plain": [
       "array([[9, 5, 8, 9],\n",
       "       [8, 7, 4, 5],\n",
       "       [4, 3, 4, 2],\n",
       "       [5, 6, 8, 4]])"
      ]
     },
     "execution_count": 123,
     "metadata": {},
     "output_type": "execute_result"
    }
   ],
   "source": [
    "matriz = np.random.randint(0,10, (4,4))\n",
    "matriz"
   ]
  },
  {
   "cell_type": "code",
   "execution_count": 125,
   "id": "82995bad",
   "metadata": {},
   "outputs": [
    {
     "name": "stdout",
     "output_type": "stream",
     "text": [
      "La suma de los elementos de las filas y columnas de la matriz es 91\n"
     ]
    }
   ],
   "source": [
    "suma_elementos = np.sum(matriz)\n",
    "\n",
    "print(f\"La suma de los elementos de las filas y columnas de la matriz es {suma_elementos}\")"
   ]
  },
  {
   "cell_type": "markdown",
   "id": "69b9751a",
   "metadata": {},
   "source": [
    "#### Ejercicio 12 - Crea una matriz de 5x5 con valores en el borde igual a 1 y en el interior igual a 0."
   ]
  },
  {
   "cell_type": "code",
   "execution_count": 127,
   "id": "eca81323",
   "metadata": {},
   "outputs": [
    {
     "data": {
      "text/plain": [
       "array([[0, 0, 0, 0, 0],\n",
       "       [0, 0, 0, 0, 0],\n",
       "       [0, 0, 0, 0, 0],\n",
       "       [0, 0, 0, 0, 0],\n",
       "       [0, 0, 0, 0, 0]])"
      ]
     },
     "execution_count": 127,
     "metadata": {},
     "output_type": "execute_result"
    }
   ],
   "source": [
    "matriz1 = np.zeros((5,5), dtype=int)\n",
    "matriz1"
   ]
  },
  {
   "cell_type": "code",
   "execution_count": 129,
   "id": "51688504",
   "metadata": {},
   "outputs": [
    {
     "name": "stdout",
     "output_type": "stream",
     "text": [
      "[[1 1 1 1 1]\n",
      " [1 0 0 0 1]\n",
      " [1 0 0 0 1]\n",
      " [1 0 0 0 1]\n",
      " [1 1 1 1 1]]\n"
     ]
    }
   ],
   "source": [
    "matriz1[0,:] = 1\n",
    "matriz1[4,:] = 1\n",
    "matriz1[:, 0] = 1\n",
    "matriz1[:,4] = 1\n",
    "\n",
    "print(matriz1)"
   ]
  },
  {
   "cell_type": "markdown",
   "id": "1ea8068d",
   "metadata": {},
   "source": [
    "#### Ejercicio 13 - Calcula la media y la desviación estándar de un array de 10 números aleatorios."
   ]
  },
  {
   "cell_type": "code",
   "execution_count": 134,
   "id": "05dd579d",
   "metadata": {},
   "outputs": [
    {
     "name": "stdout",
     "output_type": "stream",
     "text": [
      "[0.92240996 0.6651014  0.53837898 0.05871135 0.67252161 0.41881881\n",
      " 0.24997946 0.74991748 0.88312755 0.21300374]\n",
      "_____________\n",
      "La media del array es 0.5371970342928618\n",
      "La desviación estandar del array es 0.27902289474841446\n"
     ]
    }
   ],
   "source": [
    "array_media = np.random.rand(10)\n",
    "print(array_media)\n",
    "\n",
    "print(\"_____________\")\n",
    "\n",
    "media = np.mean(array_media)\n",
    "\n",
    "print(f\"La media del array es {media}\")\n",
    "      \n",
    "desviacion_estandar = np.std(array_media)\n",
    "print(f\"La desviación estandar del array es {desviacion_estandar}\")"
   ]
  },
  {
   "cell_type": "markdown",
   "id": "6add6669",
   "metadata": {},
   "source": [
    "#### Ejercicio 14 - Genera un array tridimensional de dimensiones (2, 3, 4) con valores enteros del 1 al 24.\n",
    "\n",
    "- Transpón el array para intercambiar los ejes de la forma (2, 3, 4) a (4, 3, 2).\n",
    "\n",
    "- Observa cómo cambian las posiciones de los elementos y sus índices después de la transposición. Explica en una celda de markdown que es lo que ha pasado. \n"
   ]
  },
  {
   "cell_type": "code",
   "execution_count": 137,
   "id": "ae98aca5",
   "metadata": {},
   "outputs": [
    {
     "data": {
      "text/plain": [
       "array([[[10, 13, 10, 14],\n",
       "        [ 8,  2,  4,  7],\n",
       "        [19,  5, 17, 21]],\n",
       "\n",
       "       [[ 5,  1,  8, 11],\n",
       "        [21,  6, 18, 19],\n",
       "        [ 4,  5,  7, 10]]])"
      ]
     },
     "execution_count": 137,
     "metadata": {},
     "output_type": "execute_result"
    }
   ],
   "source": [
    "arraytri5 = np.random.randint(1,24,(2,3,4))\n",
    "arraytri5"
   ]
  },
  {
   "cell_type": "code",
   "execution_count": null,
   "id": "a503bd39",
   "metadata": {},
   "outputs": [
    {
     "data": {
      "text/plain": [
       "array([[[10,  5],\n",
       "        [ 8, 21],\n",
       "        [19,  4]],\n",
       "\n",
       "       [[13,  1],\n",
       "        [ 2,  6],\n",
       "        [ 5,  5]],\n",
       "\n",
       "       [[10,  8],\n",
       "        [ 4, 18],\n",
       "        [17,  7]],\n",
       "\n",
       "       [[14, 11],\n",
       "        [ 7, 19],\n",
       "        [21, 10]]])"
      ]
     },
     "execution_count": 140,
     "metadata": {},
     "output_type": "execute_result"
    }
   ],
   "source": [
    "#- Transpón el array para intercambiar los ejes de la forma (2, 3, 4) a (4, 3, 2).\n",
    "transposicion = np.transpose(arraytri5, (2,1,0))\n",
    "transposicion\n",
    "#- Observa cómo cambian las posiciones de los elementos y sus índices después de la transposición. Explica en una celda de markdown que es lo que ha pasado. "
   ]
  },
  {
   "cell_type": "markdown",
   "metadata": {},
   "source": [
    "\n",
    "El array dado es de dimensiones 2,3,4 y queremos pasarlo a 4,3,2, por lo que hacemos es lo siguiente: \n",
    "\n",
    "2 3 4\n",
    "4 3 2\n",
    "\n",
    "siendo 0, la matriz\n",
    "1 las filas\n",
    "2 las columnas\n",
    "\n",
    "Hacemos coincidir cada uno de los números para saber dónde colocamos cada uno de ellos: \n",
    "2: En el primer array está en la posición 0 y en el nuevo en la 2, por lo que pasaremos a poner el 0 al final del todo.\n",
    "3: Está en la posición central por lo que lo dejaremos como está\n",
    "4: Pasa de la posición 2 a la 0, por lo que lo pondremos al principio\n",
    "\n",
    "las dimensiones finales son, 2,1,0 que es lo que colocaremos en el transpose.\n"
   ]
  },
  {
   "cell_type": "markdown",
   "id": "1e32b5e6",
   "metadata": {},
   "source": [
    "#### Ejercicio 15 - Genera un array tridimensional de dimensiones (3, 4, 2) con valores enteros del 1 al 24.\n",
    "\n",
    "- Transpón el array para intercambiar el primer y segundo eje, de manera que la nueva forma del array sea (4, 3, 2).\n"
   ]
  },
  {
   "cell_type": "code",
   "execution_count": 142,
   "id": "0146fdd6",
   "metadata": {},
   "outputs": [
    {
     "data": {
      "text/plain": [
       "array([[[ 7,  8],\n",
       "        [14,  7],\n",
       "        [21,  3],\n",
       "        [14, 19]],\n",
       "\n",
       "       [[23, 16],\n",
       "        [ 1,  9],\n",
       "        [ 6, 22],\n",
       "        [ 2,  9]],\n",
       "\n",
       "       [[20, 13],\n",
       "        [ 8,  8],\n",
       "        [ 3, 22],\n",
       "        [ 8, 21]]])"
      ]
     },
     "execution_count": 142,
     "metadata": {},
     "output_type": "execute_result"
    }
   ],
   "source": [
    "arraytri6 = np. random.randint(1,24,(3,4,2))\n",
    "arraytri6"
   ]
  },
  {
   "cell_type": "code",
   "execution_count": 144,
   "id": "f6a08272",
   "metadata": {},
   "outputs": [
    {
     "data": {
      "text/plain": [
       "array([[[ 7,  8],\n",
       "        [23, 16],\n",
       "        [20, 13]],\n",
       "\n",
       "       [[14,  7],\n",
       "        [ 1,  9],\n",
       "        [ 8,  8]],\n",
       "\n",
       "       [[21,  3],\n",
       "        [ 6, 22],\n",
       "        [ 3, 22]],\n",
       "\n",
       "       [[14, 19],\n",
       "        [ 2,  9],\n",
       "        [ 8, 21]]])"
      ]
     },
     "execution_count": 144,
     "metadata": {},
     "output_type": "execute_result"
    }
   ],
   "source": [
    "# - Transpón el array para intercambiar el primer y segundo eje, de manera que la nueva forma del array sea (4, 3, 2).\n",
    "transposicion1 = np.transpose(arraytri6, (1, 0,2))\n",
    "transposicion1"
   ]
  },
  {
   "cell_type": "markdown",
   "id": "fcf92586",
   "metadata": {},
   "source": [
    "#### Ejercicio 16 - Genera un array tridimensional de dimensiones (3, 2, 4) con valores enteros del 1 al 24.\n",
    "\n",
    "- Realiza una rotación completa de los ejes para convertir la forma original (3, 2, 4) en (4, 3, 2).\n"
   ]
  },
  {
   "cell_type": "code",
   "execution_count": 146,
   "id": "dd2c7f27",
   "metadata": {},
   "outputs": [
    {
     "data": {
      "text/plain": [
       "array([[[14,  4, 17,  9],\n",
       "        [21, 11,  9,  1]],\n",
       "\n",
       "       [[23,  9,  5,  3],\n",
       "        [20, 15, 23,  6]],\n",
       "\n",
       "       [[14,  1,  9, 16],\n",
       "        [18,  9, 21, 22]]])"
      ]
     },
     "execution_count": 146,
     "metadata": {},
     "output_type": "execute_result"
    }
   ],
   "source": [
    "arraytri7 = np.random.randint(1,24,(3,2,4))\n",
    "arraytri7"
   ]
  },
  {
   "cell_type": "code",
   "execution_count": 147,
   "id": "614a63e0",
   "metadata": {},
   "outputs": [
    {
     "name": "stdout",
     "output_type": "stream",
     "text": [
      "[[[14 21]\n",
      "  [23 20]\n",
      "  [14 18]]\n",
      "\n",
      " [[ 4 11]\n",
      "  [ 9 15]\n",
      "  [ 1  9]]\n",
      "\n",
      " [[17  9]\n",
      "  [ 5 23]\n",
      "  [ 9 21]]\n",
      "\n",
      " [[ 9  1]\n",
      "  [ 3  6]\n",
      "  [16 22]]]\n"
     ]
    }
   ],
   "source": [
    "#- Realiza una rotación completa de los ejes para convertir la forma original (3, 2, 4) en (4, 3, 2).\n",
    "transposicion2 = np.transpose(arraytri7, (2,0,1))\n",
    "print(transposicion2)"
   ]
  },
  {
   "cell_type": "markdown",
   "id": "1795e11f",
   "metadata": {},
   "source": [
    "#### Ejercicio 17 - Manipulación de Arrays en 3D\n",
    "\n",
    "- Crea un array tridimensional con dimensiones (3, 4, 5) cuyos elementos sean números enteros aleatorios entre -10 y 10.\n",
    "\n",
    "- Crea un array vacío con la misma forma y dimensiones que el array creado anteriormente. Luego, reemplaza los valores de la matriz vacía basada en los valores del primer array bajo las siguientes condiciones:\n",
    "\n",
    "   - Si el valor es igual a la mediana, se reemplaza por `\"M\"`.\n",
    "\n",
    "   - Si el valor es mayor que la mediana, se reemplaza por `\"X\"`.\n",
    "\n",
    "   - Si el valor es menor que la mediana, se reemplaza por `\"Y\"`.\n",
    "\n",
    "   - Si el valor es igual al máximo, se reemplaza por `\"MAX\"`.\n",
    "\n",
    "   - Si el valor es igual al mínimo, se reemplaza por `\"MIN\"`.\n"
   ]
  },
  {
   "cell_type": "code",
   "execution_count": 157,
   "id": "d309b397",
   "metadata": {},
   "outputs": [
    {
     "name": "stdout",
     "output_type": "stream",
     "text": [
      "[[[10 13 10 14]\n",
      "  [ 8  2  4  7]\n",
      "  [19  5 17 21]]\n",
      "\n",
      " [[ 5  1  8 11]\n",
      "  [21  6 18 19]\n",
      "  [ 4  5  7 10]]]\n"
     ]
    }
   ],
   "source": [
    "arraytri8 = np.random.randint(-10,10,(3,4,5))\n",
    "print(arraytri5)\n",
    "\n",
    "array_vacio = np.empty((3, 4, 5), dtype=str)"
   ]
  },
  {
   "cell_type": "code",
   "execution_count": 159,
   "id": "ad70a558",
   "metadata": {},
   "outputs": [
    {
     "name": "stdout",
     "output_type": "stream",
     "text": [
      "[[['X' 'Y' 'X' 'Y' 'X']\n",
      "  ['Y' 'X' 'M' 'Y' 'Y']\n",
      "  ['M' 'Y' 'Y' 'X' 'M']\n",
      "  ['Y' 'Y' 'Y' 'Y' 'Y']]\n",
      "\n",
      " [['Y' 'X' 'X' 'Y' 'X']\n",
      "  ['X' 'Y' 'M' 'X' 'X']\n",
      "  ['X' 'Y' 'X' 'X' 'Y']\n",
      "  ['Y' 'Y' 'Y' 'X' 'X']]\n",
      "\n",
      " [['Y' 'Y' 'X' 'Y' 'X']\n",
      "  ['Y' 'X' 'Y' 'X' 'X']\n",
      "  ['X' 'X' 'X' 'Y' 'X']\n",
      "  ['X' 'X' 'X' 'X' 'Y']]]\n"
     ]
    }
   ],
   "source": [
    "mediana = np.median(arraytri8)\n",
    "maximo = np.max(arraytri8)\n",
    "minimo = np.min(arraytri8)\n",
    "\n",
    "for matriz in range(arraytri8.shape[0]):\n",
    "    for filas in range(arraytri8.shape[1]):\n",
    "        for columnas in range(arraytri8.shape[2]):\n",
    "            valor = arraytri8[matriz, filas, columnas]\n",
    "            if valor == mediana:\n",
    "                array_vacio[matriz, filas, columnas] = \"M\"\n",
    "            elif valor > mediana:\n",
    "                array_vacio[matriz,filas,columnas] = \"X\"\n",
    "            elif valor < mediana:\n",
    "                array_vacio[matriz,filas,columnas] = \"Y\"\n",
    "            elif valor == maximo:\n",
    "                 array_vacio[matriz,filas,columnas] = \"MAX\"\n",
    "            elif valor == minimo:\n",
    "                 array_vacio[matriz,filas,columnas] = \"MIN\"\n",
    "            else:\n",
    "                pass\n",
    "\n",
    "print(array_vacio)"
   ]
  },
  {
   "cell_type": "markdown",
   "id": "83794704",
   "metadata": {},
   "source": [
    "#### Ejercicio 18 - Verificación de Filas y Columnas Iguales\n",
    "\n",
    "Crea un array bidimensional de dimensiones 4x4, escribe un código para determinar si alguna fila es exactamente igual a alguna columna.\n",
    "\n",
    "**Reglas:**\n",
    "\n",
    "- No puedes usar funciones predefinidas de NumPy para comparar filas y columnas (`np.array_equal`, etc.).\n",
    "\n",
    "- Debes resolverlo con estructuras básicas de Python (bucles, condicionales, etc.).\n",
    "\n",
    "- Debes revisar si hay al menos una fila que coincida exactamente con alguna columna.\n",
    "\n",
    "**Pistas**:\n",
    "\n",
    "- Puedes recorrer cada fila y cada columna de la matriz usando bucles.\n",
    "\n",
    "- Para comparar una fila con una columna, puedes hacerlo elemento por elemento."
   ]
  },
  {
   "cell_type": "code",
   "execution_count": 165,
   "id": "afd51c60",
   "metadata": {},
   "outputs": [
    {
     "data": {
      "text/plain": [
       "array([[ 1,  2,  3,  4],\n",
       "       [ 5,  6,  7,  8],\n",
       "       [ 9, 10, 11, 12],\n",
       "       [13, 14, 15, 16]])"
      ]
     },
     "execution_count": 165,
     "metadata": {},
     "output_type": "execute_result"
    }
   ],
   "source": [
    "lista_bidimensional1 = [\n",
    "    [1, 2, 3, 4],\n",
    "    [5, 6, 7, 8],\n",
    "    [9, 10, 11, 12],\n",
    "    [13, 14, 15, 16]\n",
    "]\n",
    "\n",
    "array_bidimensional1 = np.array(lista_bidimensional1)\n",
    "\n",
    "array_bidimensional1"
   ]
  },
  {
   "cell_type": "code",
   "execution_count": null,
   "id": "6dd59c00",
   "metadata": {},
   "outputs": [
    {
     "name": "stdout",
     "output_type": "stream",
     "text": [
      "La fila [1 2 3 4 5] es igual a la columna [np.int64(1), np.int64(6)]\n"
     ]
    },
    {
     "ename": "IndexError",
     "evalue": "list index out of range",
     "output_type": "error",
     "traceback": [
      "\u001b[0;31m---------------------------------------------------------------------------\u001b[0m",
      "\u001b[0;31mIndexError\u001b[0m                                Traceback (most recent call last)",
      "Cell \u001b[0;32mIn[177], line 10\u001b[0m\n\u001b[1;32m      8\u001b[0m \u001b[38;5;28;01mfor\u001b[39;00m x \u001b[38;5;129;01min\u001b[39;00m \u001b[38;5;28mrange\u001b[39m(\u001b[38;5;28mlen\u001b[39m(fila)):\n\u001b[1;32m      9\u001b[0m     filas_iguales \u001b[38;5;241m=\u001b[39m \u001b[38;5;28;01mTrue\u001b[39;00m\n\u001b[0;32m---> 10\u001b[0m     \u001b[38;5;28;01mif\u001b[39;00m fila[x] \u001b[38;5;241m!=\u001b[39m \u001b[43mcolumna\u001b[49m\u001b[43m[\u001b[49m\u001b[43mx\u001b[49m\u001b[43m]\u001b[49m:\n\u001b[1;32m     11\u001b[0m         filas_iguales \u001b[38;5;241m=\u001b[39m \u001b[38;5;28;01mFalse\u001b[39;00m\n\u001b[1;32m     12\u001b[0m     \u001b[38;5;28;01melse\u001b[39;00m:\n",
      "\u001b[0;31mIndexError\u001b[0m: list index out of range"
     ]
    }
   ],
   "source": [
    "\n",
    "\n"
   ]
  }
 ],
 "metadata": {
  "kernelspec": {
   "display_name": "Python 3",
   "language": "python",
   "name": "python3"
  },
  "language_info": {
   "codemirror_mode": {
    "name": "ipython",
    "version": 3
   },
   "file_extension": ".py",
   "mimetype": "text/x-python",
   "name": "python",
   "nbconvert_exporter": "python",
   "pygments_lexer": "ipython3",
   "version": "3.9.6"
  }
 },
 "nbformat": 4,
 "nbformat_minor": 5
}
